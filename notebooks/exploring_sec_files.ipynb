{
 "cells": [
  {
   "cell_type": "code",
   "execution_count": 2,
   "metadata": {},
   "outputs": [],
   "source": [
    "import pandas as pd\n",
    "import numpy as np\n",
    "import requests\n",
    "from bs4 import BeautifulSoup"
   ]
  },
  {
   "cell_type": "code",
   "execution_count": 7,
   "metadata": {},
   "outputs": [
    {
     "name": "stdout",
     "output_type": "stream",
     "text": [
      "200\n",
      "https://www.sec.gov/cgi-bin/browse-edgar?action=getcompany&CIK=66740&type=8-K&output=xml&datea=20150501&start=&count=100\n"
     ]
    }
   ],
   "source": [
    "# defining endpoint and parameters\n",
    "url = 'https://www.sec.gov/cgi-bin/browse-edgar'\n",
    "params = {'action': 'getcompany', \n",
    "          'CIK': 66740, \n",
    "          'type': '8-K', \n",
    "          'output':'xml', \n",
    "          'dateb': '20200430',\n",
    "          'datea': '20150501',\n",
    "          'start': '',\n",
    "          'count': '100'}\n",
    "\n",
    "# response\n",
    "sec_response = requests.get(url=url, params=params)\n",
    "\n",
    "# printing status code and url to check if its working\n",
    "print(sec_response.status_code)\n",
    "print(sec_response.url)\n",
    "\n",
    "# creating soup\n",
    "soup = BeautifulSoup(sec_response.content, 'xml')"
   ]
  },
  {
   "cell_type": "code",
   "execution_count": null,
   "metadata": {},
   "outputs": [],
   "source": []
  }
 ],
 "metadata": {
  "kernelspec": {
   "display_name": "Python 3",
   "language": "python",
   "name": "python3"
  },
  "language_info": {
   "codemirror_mode": {
    "name": "ipython",
    "version": 3
   },
   "file_extension": ".py",
   "mimetype": "text/x-python",
   "name": "python",
   "nbconvert_exporter": "python",
   "pygments_lexer": "ipython3",
   "version": "3.8.2"
  }
 },
 "nbformat": 4,
 "nbformat_minor": 4
}
